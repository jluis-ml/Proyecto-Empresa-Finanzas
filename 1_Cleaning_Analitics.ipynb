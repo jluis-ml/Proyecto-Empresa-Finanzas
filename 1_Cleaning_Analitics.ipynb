{
 "cells": [
  {
   "cell_type": "markdown",
   "metadata": {},
   "source": [
    "## Analisis de Ingenieria de Caracteristicas"
   ]
  },
  {
   "cell_type": "markdown",
   "metadata": {},
   "source": [
    "Este es un conjunto de datos que requiere mucho preprocesamiento con información EDA sorprendente para una empresa.\n",
    "\n",
    "¡Comprueba los nombres de las columnas y encuentra el error allí mismo! Los nombres de las columnas no son los que ves\n",
    "Eliminar el signo '$' y '-' de todas las columnas donde estén presentes\n",
    "Cambie el tipo de datos de objetos a int después de los dos anteriores.\n",
    "Desafío: Intenta eliminar \",\" (coma) de todos los números numéricos.\n",
    "Intente trazar un gráfico de las ventas y las ganancias con respecto a la línea de tiempo."
   ]
  },
  {
   "cell_type": "markdown",
   "metadata": {},
   "source": [
    "https://www.kaggle.com/code/rajatraj0502/company-financials-dataset\n",
    "\n",
    "https://www.kaggle.com/code/gigsoll/number-of-sales-prediction-with-gradient-boosting"
   ]
  },
  {
   "cell_type": "markdown",
   "metadata": {},
   "source": [
    "Aqui analizaremos a detalle sobre, los datos duplicados, nulos, atipicos, faltantees, etc. Para poder entenderlos y asi saber que debemos hacer con ellos"
   ]
  },
  {
   "cell_type": "code",
   "execution_count": 2,
   "metadata": {},
   "outputs": [],
   "source": [
    "import numpy as np\n",
    "import pandas as pd\n",
    "import matplotlib.pyplot as plt\n",
    "import seaborn as sns\n",
    "import janitor\n",
    "import missingno\n",
    "import pyreadr\n",
    "import session_info\n",
    "import upsetplot\n",
    "from statsmodels.graphics.mosaicplot import mosaic\n",
    "\n",
    "%matplotlib inline\n",
    "sns.set(style=\"darkgrid\")\n",
    "\n",
    "\n",
    "import warnings\n",
    "import warnings\n",
    "warnings.filterwarnings(\"ignore\")\n",
    "warnings.filterwarnings(\"ignore\", category=DeprecationWarning)\n",
    "\n",
    "%run extenciones-datos-faltantes.ipynb"
   ]
  }
 ],
 "metadata": {
  "kernelspec": {
   "display_name": "Python 3",
   "language": "python",
   "name": "python3"
  },
  "language_info": {
   "codemirror_mode": {
    "name": "ipython",
    "version": 3
   },
   "file_extension": ".py",
   "mimetype": "text/x-python",
   "name": "python",
   "nbconvert_exporter": "python",
   "pygments_lexer": "ipython3",
   "version": "3.12.2"
  }
 },
 "nbformat": 4,
 "nbformat_minor": 2
}
